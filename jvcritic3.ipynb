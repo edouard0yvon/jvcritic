{
  "nbformat": 4,
  "nbformat_minor": 0,
  "metadata": {
    "colab": {
      "name": "Copie de Untitled0.ipynb",
      "provenance": [],
      "collapsed_sections": [],
      "include_colab_link": true
    },
    "kernelspec": {
      "name": "python3",
      "display_name": "Python 3"
    }
  },
  "cells": [
    {
      "cell_type": "markdown",
      "metadata": {
        "id": "view-in-github",
        "colab_type": "text"
      },
      "source": [
        "<a href=\"https://colab.research.google.com/github/edouard0yvon/jvcritic/blob/master/jvcritic3.ipynb\" target=\"_parent\"><img src=\"https://colab.research.google.com/assets/colab-badge.svg\" alt=\"Open In Colab\"/></a>"
      ]
    },
    {
      "cell_type": "code",
      "metadata": {
        "id": "WNsh1wSnZxTI",
        "colab_type": "code",
        "colab": {
          "base_uri": "https://localhost:8080/",
          "height": 1000
        },
        "outputId": "2d71ee27-3dca-46f9-ec20-26c07c13a53f"
      },
      "source": [
        "!pip install selenium\n",
        "!apt-get update # to update ubuntu to correctly run apt install\n",
        "!apt install chromium-chromedriver\n",
        "!cp /usr/lib/chromium-browser/chromedriver /usr/bin\n",
        "import sys\n",
        "sys.path.insert(0,'/usr/lib/chromium-browser/chromedriver')\n",
        "from selenium import webdriver\n",
        "chrome_options = webdriver.ChromeOptions()\n",
        "chrome_options.add_argument('--headless')\n",
        "chrome_options.add_argument('--no-sandbox')\n",
        "chrome_options.add_argument('--disable-dev-shm-usage')\n",
        "wd = webdriver.Chrome('chromedriver',chrome_options=chrome_options)\n",
        "wd.get(\"https://www.jeuxvideo.com\")"
      ],
      "execution_count": null,
      "outputs": [
        {
          "output_type": "stream",
          "text": [
            "Collecting selenium\n",
            "\u001b[?25l  Downloading https://files.pythonhosted.org/packages/80/d6/4294f0b4bce4de0abf13e17190289f9d0613b0a44e5dd6a7f5ca98459853/selenium-3.141.0-py2.py3-none-any.whl (904kB)\n",
            "\u001b[K     |████████████████████████████████| 911kB 3.4MB/s \n",
            "\u001b[?25hRequirement already satisfied: urllib3 in /usr/local/lib/python3.6/dist-packages (from selenium) (1.24.3)\n",
            "Installing collected packages: selenium\n",
            "Successfully installed selenium-3.141.0\n",
            "Get:1 http://security.ubuntu.com/ubuntu bionic-security InRelease [88.7 kB]\n",
            "Ign:2 https://developer.download.nvidia.com/compute/cuda/repos/ubuntu1804/x86_64  InRelease\n",
            "Get:3 https://cloud.r-project.org/bin/linux/ubuntu bionic-cran35/ InRelease [3,626 B]\n",
            "Ign:4 https://developer.download.nvidia.com/compute/machine-learning/repos/ubuntu1804/x86_64  InRelease\n",
            "Get:5 https://developer.download.nvidia.com/compute/cuda/repos/ubuntu1804/x86_64  Release [697 B]\n",
            "Hit:6 http://archive.ubuntu.com/ubuntu bionic InRelease\n",
            "Hit:7 http://ppa.launchpad.net/graphics-drivers/ppa/ubuntu bionic InRelease\n",
            "Hit:8 https://developer.download.nvidia.com/compute/machine-learning/repos/ubuntu1804/x86_64  Release\n",
            "Get:9 https://developer.download.nvidia.com/compute/cuda/repos/ubuntu1804/x86_64  Release.gpg [836 B]\n",
            "Get:10 http://archive.ubuntu.com/ubuntu bionic-updates InRelease [88.7 kB]\n",
            "Get:11 http://ppa.launchpad.net/marutter/c2d4u3.5/ubuntu bionic InRelease [15.4 kB]\n",
            "Get:12 http://archive.ubuntu.com/ubuntu bionic-backports InRelease [74.6 kB]\n",
            "Get:13 http://security.ubuntu.com/ubuntu bionic-security/universe amd64 Packages [882 kB]\n",
            "Get:14 http://security.ubuntu.com/ubuntu bionic-security/main amd64 Packages [1,037 kB]\n",
            "Ign:16 https://developer.download.nvidia.com/compute/cuda/repos/ubuntu1804/x86_64  Packages\n",
            "Get:16 https://developer.download.nvidia.com/compute/cuda/repos/ubuntu1804/x86_64  Packages [255 kB]\n",
            "Get:17 http://ppa.launchpad.net/marutter/c2d4u3.5/ubuntu bionic/main Sources [1,855 kB]\n",
            "Get:18 http://archive.ubuntu.com/ubuntu bionic-updates/restricted amd64 Packages [116 kB]\n",
            "Get:19 http://archive.ubuntu.com/ubuntu bionic-updates/multiverse amd64 Packages [27.1 kB]\n",
            "Get:20 http://archive.ubuntu.com/ubuntu bionic-updates/main amd64 Packages [1,334 kB]\n",
            "Get:21 http://archive.ubuntu.com/ubuntu bionic-updates/universe amd64 Packages [1,413 kB]\n",
            "Get:22 http://ppa.launchpad.net/marutter/c2d4u3.5/ubuntu bionic/main amd64 Packages [895 kB]\n",
            "Fetched 8,088 kB in 4s (2,140 kB/s)\n",
            "Reading package lists... Done\n",
            "Reading package lists... Done\n",
            "Building dependency tree       \n",
            "Reading state information... Done\n",
            "The following package was automatically installed and is no longer required:\n",
            "  libnvidia-common-440\n",
            "Use 'apt autoremove' to remove it.\n",
            "The following additional packages will be installed:\n",
            "  chromium-browser chromium-browser-l10n chromium-codecs-ffmpeg-extra\n",
            "Suggested packages:\n",
            "  webaccounts-chromium-extension unity-chromium-extension adobe-flashplugin\n",
            "The following NEW packages will be installed:\n",
            "  chromium-browser chromium-browser-l10n chromium-chromedriver\n",
            "  chromium-codecs-ffmpeg-extra\n",
            "0 upgraded, 4 newly installed, 0 to remove and 50 not upgraded.\n",
            "Need to get 76.2 MB of archives.\n",
            "After this operation, 255 MB of additional disk space will be used.\n",
            "Get:1 http://archive.ubuntu.com/ubuntu bionic-updates/universe amd64 chromium-codecs-ffmpeg-extra amd64 84.0.4147.105-0ubuntu0.18.04.1 [1,118 kB]\n",
            "Get:2 http://archive.ubuntu.com/ubuntu bionic-updates/universe amd64 chromium-browser amd64 84.0.4147.105-0ubuntu0.18.04.1 [67.4 MB]\n",
            "Get:3 http://archive.ubuntu.com/ubuntu bionic-updates/universe amd64 chromium-browser-l10n all 84.0.4147.105-0ubuntu0.18.04.1 [3,379 kB]\n",
            "Get:4 http://archive.ubuntu.com/ubuntu bionic-updates/universe amd64 chromium-chromedriver amd64 84.0.4147.105-0ubuntu0.18.04.1 [4,354 kB]\n",
            "Fetched 76.2 MB in 4s (21.2 MB/s)\n",
            "Selecting previously unselected package chromium-codecs-ffmpeg-extra.\n",
            "(Reading database ... 144487 files and directories currently installed.)\n",
            "Preparing to unpack .../chromium-codecs-ffmpeg-extra_84.0.4147.105-0ubuntu0.18.04.1_amd64.deb ...\n",
            "Unpacking chromium-codecs-ffmpeg-extra (84.0.4147.105-0ubuntu0.18.04.1) ...\n",
            "Selecting previously unselected package chromium-browser.\n",
            "Preparing to unpack .../chromium-browser_84.0.4147.105-0ubuntu0.18.04.1_amd64.deb ...\n",
            "Unpacking chromium-browser (84.0.4147.105-0ubuntu0.18.04.1) ...\n",
            "Selecting previously unselected package chromium-browser-l10n.\n",
            "Preparing to unpack .../chromium-browser-l10n_84.0.4147.105-0ubuntu0.18.04.1_all.deb ...\n",
            "Unpacking chromium-browser-l10n (84.0.4147.105-0ubuntu0.18.04.1) ...\n",
            "Selecting previously unselected package chromium-chromedriver.\n",
            "Preparing to unpack .../chromium-chromedriver_84.0.4147.105-0ubuntu0.18.04.1_amd64.deb ...\n",
            "Unpacking chromium-chromedriver (84.0.4147.105-0ubuntu0.18.04.1) ...\n",
            "Setting up chromium-codecs-ffmpeg-extra (84.0.4147.105-0ubuntu0.18.04.1) ...\n",
            "Setting up chromium-browser (84.0.4147.105-0ubuntu0.18.04.1) ...\n",
            "update-alternatives: using /usr/bin/chromium-browser to provide /usr/bin/x-www-browser (x-www-browser) in auto mode\n",
            "update-alternatives: using /usr/bin/chromium-browser to provide /usr/bin/gnome-www-browser (gnome-www-browser) in auto mode\n",
            "Setting up chromium-chromedriver (84.0.4147.105-0ubuntu0.18.04.1) ...\n",
            "Setting up chromium-browser-l10n (84.0.4147.105-0ubuntu0.18.04.1) ...\n",
            "Processing triggers for hicolor-icon-theme (0.17-2) ...\n",
            "Processing triggers for mime-support (3.60ubuntu1) ...\n",
            "Processing triggers for man-db (2.8.3-2ubuntu0.1) ...\n",
            "cp: '/usr/lib/chromium-browser/chromedriver' and '/usr/bin/chromedriver' are the same file\n"
          ],
          "name": "stdout"
        },
        {
          "output_type": "stream",
          "text": [
            "/usr/local/lib/python3.6/dist-packages/ipykernel_launcher.py:12: DeprecationWarning: use options instead of chrome_options\n",
            "  if sys.path[0] == '':\n"
          ],
          "name": "stderr"
        }
      ]
    },
    {
      "cell_type": "code",
      "metadata": {
        "id": "uPesIjs9FX_9",
        "colab_type": "code",
        "colab": {}
      },
      "source": [
        ""
      ],
      "execution_count": null,
      "outputs": []
    },
    {
      "cell_type": "code",
      "metadata": {
        "id": "qRh_vIKodDXO",
        "colab_type": "code",
        "colab": {}
      },
      "source": [
        "import re\n",
        "from bs4 import BeautifulSoup as bs\n",
        "soupe = bs(wd.page_source)"
      ],
      "execution_count": 53,
      "outputs": []
    },
    {
      "cell_type": "code",
      "metadata": {
        "id": "_T-LHWbeGTU1",
        "colab_type": "code",
        "colab": {}
      },
      "source": [
        ""
      ],
      "execution_count": null,
      "outputs": []
    },
    {
      "cell_type": "code",
      "metadata": {
        "id": "w92Dv0tVBHYF",
        "colab_type": "code",
        "colab": {
          "base_uri": "https://localhost:8080/",
          "height": 92
        },
        "outputId": "135a8cd9-e053-49a2-9059-7e293fe88494"
      },
      "source": [
        "from bs4.element import Tag\n",
        "from selenium.webdriver.common.keys import Keys\n",
        "\n",
        "wd.get('http://www.google.com')\n",
        "\n",
        "search = wd.find_element_by_name('q')\n",
        "search.send_keys(\"last of us 2 gamekult\")\n",
        "search.send_keys(Keys.RETURN) # hit return after you enter search text\n",
        "#time.sleep(5) # sleep for 5 seconds so you can see the results\n",
        "#wd.quit()\n",
        "soup = bs(wd.page_source,'lxml')\n",
        "result_div = soup.find_all('div', attrs={'class': 'g'})\n",
        "links = []\n",
        "titles = []\n",
        "descriptions = []\n",
        "for r in result_div:\n",
        "    # Checks if each element is present, else, raise exception\n",
        "    try:\n",
        "        link = r.find('a', href=True)\n",
        "        title = None\n",
        "        title = r.find('h3')\n",
        "\n",
        "        if isinstance(title,Tag):\n",
        "            title = title.get_text()\n",
        "\n",
        "        description = None\n",
        "        description = r.find('span', attrs={'class': 'st'})\n",
        "\n",
        "        if isinstance(description, Tag):\n",
        "            description = description.get_text()\n",
        "\n",
        "        # Check to make sure everything is present before appending\n",
        "        if link != '' and title != '' and description != '':\n",
        "            links.append(link['href'])\n",
        "            titles.append(title)\n",
        "            descriptions.append(description)\n",
        "    # Next loop if one element is not present\n",
        "    except Exception as e:\n",
        "        print(e)\n",
        "        continue\n",
        "\n",
        "print(titles)\n",
        "print(links)\n",
        "print(descriptions)"
      ],
      "execution_count": 54,
      "outputs": [
        {
          "output_type": "stream",
          "text": [
            "['The Last of Us Part 2 sur PlayStation 4 - jeuxvideo.com', 'Forum The Last of Us Part II - page 2 - jeuxvideo.com', 'The Last of Us Part II : Entre histoire viscérale et review bombing', 'Gameplay The Last of Us Part II : Un environnement ...', \"The Last of Us Part II : “l'expérience du joueur est la chose la ...\", 'Preview The Last of Us Part II : Organique, viscérale ...']\n",
            "['https://www.jeuxvideo.com/jeux/ps4/jeu-412345/', 'https://www.jeuxvideo.com/forums/0-3000280-0-1-0-26-0-the-last-of-us-2.htm', 'https://www.jeuxvideo.com/news/1244769/the-last-of-us-part-ii-entre-histoire-viscerale-et-review-bombing.htm', 'https://www.jeuxvideo.com/videos/1243740/the-last-of-us-part-ii-un-environnement-claustrophobique-et-malfame.htm', 'https://www.jeuxvideo.com/news/1236455/the-last-of-us-part-ii-l-experience-du-joueur-est-la-chose-la-plus-importante.htm', 'https://www.jeuxvideo.com/preview/1114057/the-last-of-us-part-ii-organique-viscerale-immersive-une-experience-deja-excitante.htm']\n",
            "[\"The Last of Us Part II sur PlayStation 4 : retrouvez toutes les informations, les tests, les vidéos et actualités du jeu sur tous ses supports. Au centre de l'intrigue du\\xa0...\", \"Bienvenue sur la page d'accueil du forum The Last of Us Part II de jeuxvideo.com. Voici la liste des topics du forum. Venez rejoindre notre communauté ! - page\\xa0...\", 'Jun 22, 2020 - A lire sur jeuxvideo.com : Il ne vous a pas peut-être pas échappé que depuis la sortie de The Last of Us Part II vendredi dernier, le titre de\\xa0...', 'Jun 20, 2020 - Découvrez la vidéo de gameplay du jeu The Last of Us Part II : Un environnement claustrophobique et malfamé sur jeuxvideo.com.', 'Jun 21, 2020 - A lire sur jeuxvideo.com : Il y a quelques semaines, le co-game director de The Last of Us Part II Anthony Newman avait accepté de répondre à\\xa0...', \"Jun 23, 2020 - The Last of US Part 2 : Une première prise en main très excitante. Chargement de la vidéo The Last of Us Part II Vidéo preview ... commençant sous le nom « Ellie CAC tout » (on a les jeux de mots que l'on mérite).\"]\n"
          ],
          "name": "stdout"
        }
      ]
    },
    {
      "cell_type": "code",
      "metadata": {
        "id": "t2o2WQMEFb3x",
        "colab_type": "code",
        "colab": {
          "base_uri": "https://localhost:8080/",
          "height": 35
        },
        "outputId": "1fadbaf2-f1f2-46b1-85ab-4e58f70cd507"
      },
      "source": [
        "from urllib.request import urlopen\n",
        "from bs4 import BeautifulSoup\n",
        "\n",
        "url = links[0]\n",
        "html = urlopen(url)\n",
        "soup = bs(html.read(), \"lxml\")\n",
        "note = (soup.find(\"div\", {\"class\": \"numbers\"})).span.text\n",
        "print(note)"
      ],
      "execution_count": 50,
      "outputs": [
        {
          "output_type": "stream",
          "text": [
            "8\n"
          ],
          "name": "stdout"
        }
      ]
    },
    {
      "cell_type": "code",
      "metadata": {
        "id": "hhH4g9TFHrwH",
        "colab_type": "code",
        "colab": {
          "base_uri": "https://localhost:8080/",
          "height": 73
        },
        "outputId": "b9d19f10-6ff1-4fae-f042-622f3e6d6654"
      },
      "source": [
        "resume = soup.find(\"p\", {\"class\": \"pr__description--game\"}).text\n",
        "print(resume)\n",
        "prices = soup.find_all(\"li\",{\"class\": \"gk__pt__lst__itm js-track-click\"})\n",
        "markets = []\n",
        "for market in prices :\n",
        "    enseigne = ((market.find(\"div\", {\"class\" : \"gk__pt__slr\"})).text).replace(\" \", \"\")\n",
        "    note = ((market.find(\"div\", {\"class\" : \"gk__pt__prc\"})).text).replace(\" \", \"\")\n",
        "    markets.append(enseigne)\n",
        "    markets.append(note)\n",
        "\n",
        "print(markets)\n",
        "\n"
      ],
      "execution_count": 51,
      "outputs": [
        {
          "output_type": "stream",
          "text": [
            "The Last of Us Part II est un jeu vidéo disponible, sur PlayStation 4, de genre action-aventure, développé par Naughty Dog et édité par Sony Interactive Entertainment.\n",
            "['\\n\\nRakuten\\n', '48,99', '\\n\\nLeclerc\\n', '54,49', '\\n\\nFnac\\n', '54,99', '\\n\\nAmazon\\n', '56,79', '\\n\\nFnacmarketplace\\n', '58,74', '\\n\\nCultura\\n', '59,99', '\\n\\nBoulanger\\n', '59,99', '\\n\\nLdlc\\n', '64,90', '\\n\\nAuchan\\n', '64,99', '\\n\\nPlaystationstore\\n', '69,99']\n"
          ],
          "name": "stdout"
        }
      ]
    },
    {
      "cell_type": "code",
      "metadata": {
        "id": "xh4By5BIHv3m",
        "colab_type": "code",
        "colab": {
          "base_uri": "https://localhost:8080/",
          "height": 55
        },
        "outputId": "885dba17-681e-4195-8cf1-c9ccdc11d8b9"
      },
      "source": [
        "critics = \"us__reviews-h__list\"\n",
        "critics = soup.find_all(\"div\", {\"class\":\"us__reviews-h__list__review\"})\n",
        "detail_critics = []\n",
        "\n",
        "for critic in critics:\n",
        "    note = ((critic.find(\"div\", {\"class\": \"numbers\"})).span.text).replace(\" \", \"\")\n",
        "    bodyCritic = (critic.find(\"div\", {\"class\": \"us__review-h__sm__body\"})).text\n",
        "    detail_critics.append(note)\n",
        "    detail_critics.append(bodyCritic)\n",
        "\n",
        "print(detail_critics)"
      ],
      "execution_count": 52,
      "outputs": [
        {
          "output_type": "stream",
          "text": [
            "['6', \"\\nLe digne successeur du premier ? Non ...\\n                Les plus :\\n\\n* Techniquement et graphiquement magnifique.\\n* BO originale excellente.\\n* Immersion parfaite dans cet univers.\\n* A peine sorti, le jeu baisse déjà de prix. trouvable facilement à 40-45 euros neuf.\\n* Le personnage d'Ellie.\\n\\nLes Moins :\\n\\n* Maniabilité discutable et assez rigide.\\n* IA aux fraises ... votre compagnon ne sert à rien.\\n* On est à des années lumières du lien entre Joël...\\n    \", '5', \"\\nverre à moitié vide /SPOIL\\n                J'écris la première critique car il est pour moi urgent d’avertir le joueur qui hésite à l'acheter plein tarif afin qu'il soit pleinement averti à quel sauce il va être manger.\\n-8/10 pour la première moitié du jeu\\n-2/10 pour la seconde moitié du jeu à partir du moment où l'on incarne Abby\\n\\nJe m'explique : \\n-Pour être rapide sur la...\\n    \"]\n"
          ],
          "name": "stdout"
        }
      ]
    }
  ]
}