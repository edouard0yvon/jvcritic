{
 "cells": [
  {
   "cell_type": "code",
   "execution_count": 1,
   "metadata": {},
   "outputs": [],
   "source": [
    "from urllib.request import urlopen\n",
    "from bs4 import BeautifulSoup"
   ]
  },
  {
   "cell_type": "code",
   "execution_count": 29,
   "metadata": {},
   "outputs": [
    {
     "name": "stdout",
     "output_type": "stream",
     "text": [
      "8\n"
     ]
    }
   ],
   "source": [
    "url = \"https://www.gamekult.com/jeux/the-last-of-us-part-ii-3050817635.html\"\n",
    "html = urlopen(url) \n",
    "soup = BeautifulSoup(html.read(), \"lxml\")\n",
    "note = (soup.find(\"div\", {\"class\": \"numbers\"})).span.text\n",
    "print(note)"
   ]
  },
  {
   "cell_type": "code",
   "execution_count": 30,
   "metadata": {},
   "outputs": [
    {
     "name": "stdout",
     "output_type": "stream",
     "text": [
      "The Last of Us Part II est un jeu vidéo disponible, sur PlayStation 4, de genre action-aventure, développé par Naughty Dog et édité par Sony Interactive Entertainment.\n"
     ]
    }
   ],
   "source": [
    "resume = soup.find(\"p\", {\"class\": \"pr__description--game\"}).text\n",
    "print(resume)"
   ]
  },
  {
   "cell_type": "code",
   "execution_count": 72,
   "metadata": {},
   "outputs": [
    {
     "name": "stdout",
     "output_type": "stream",
     "text": [
      "['\\n\\nRakuten\\n', '48,99', '\\n\\nFnacmarketplace\\n', '49,95', '\\n\\nLeclerc\\n', '54,49', '\\n\\nFnac\\n', '54,99', '\\n\\nAmazon\\n', '56,79', '\\n\\nCultura\\n', '59,99', '\\n\\nBoulanger\\n', '59,99', '\\n\\nLdlc\\n', '64,90', '\\n\\nAuchan\\n', '64,99', '\\n\\nPlaystationstore\\n', '69,99']\n"
     ]
    }
   ],
   "source": [
    "prices = soup.find_all(\"li\",{\"class\": \"gk__pt__lst__itm js-track-click\"})\n",
    "markets = []\n",
    "for market in prices :\n",
    "    enseigne = ((market.find(\"div\", {\"class\" : \"gk__pt__slr\"})).text).replace(\" \", \"\")\n",
    "    note = ((market.find(\"div\", {\"class\" : \"gk__pt__prc\"})).text).replace(\" \", \"\")\n",
    "    markets.append(enseigne)\n",
    "    markets.append(note)\n",
    "\n",
    "print(markets)\n"
   ]
  },
  {
   "cell_type": "code",
   "execution_count": 85,
   "metadata": {},
   "outputs": [
    {
     "name": "stdout",
     "output_type": "stream",
     "text": [
      "['6', \"\\nLe digne successeur du premier ? Non ...\\n                Les plus :\\n\\n* Techniquement et graphiquement magnifique.\\n* BO originale excellente.\\n* Immersion parfaite dans cet univers.\\n* A peine sorti, le jeu baisse déjà de prix. trouvable facilement à 40-45 euros neuf.\\n* Le personnage d'Ellie.\\n\\nLes Moins :\\n\\n* Maniabilité discutable et assez rigide.\\n* IA aux fraises ... votre compagnon ne sert à rien.\\n* On est à des années lumières du lien entre Joël...\\n    \", '5', \"\\nverre à moitié vide /SPOIL\\n                J'écris la première critique car il est pour moi urgent d’avertir le joueur qui hésite à l'acheter plein tarif afin qu'il soit pleinement averti à quel sauce il va être manger.\\n-8/10 pour la première moitié du jeu\\n-2/10 pour la seconde moitié du jeu à partir du moment où l'on incarne Abby\\n\\nJe m'explique : \\n-Pour être rapide sur la...\\n    \"]\n"
     ]
    }
   ],
   "source": [
    "critics = \"us__reviews-h__list\"\n",
    "critics = soup.find_all(\"div\", {\"class\":\"us__reviews-h__list__review\"})\n",
    "detail_critics = []\n",
    "\n",
    "for critic in critics:\n",
    "    note = ((critic.find(\"div\", {\"class\": \"numbers\"})).span.text).replace(\" \", \"\")\n",
    "    bodyCritic = (critic.find(\"div\", {\"class\": \"us__review-h__sm__body\"})).text\n",
    "    detail_critics.append(note)\n",
    "    detail_critics.append(bodyCritic)\n",
    "\n",
    "print(detail_critics)"
   ]
  },
  {
   "cell_type": "code",
   "execution_count": null,
   "metadata": {},
   "outputs": [],
   "source": []
  }
 ],
 "metadata": {
  "kernelspec": {
   "display_name": "Python 3",
   "language": "python",
   "name": "python3"
  },
  "language_info": {
   "codemirror_mode": {
    "name": "ipython",
    "version": 3
   },
   "file_extension": ".py",
   "mimetype": "text/x-python",
   "name": "python",
   "nbconvert_exporter": "python",
   "pygments_lexer": "ipython3",
   "version": "3.7.6"
  }
 },
 "nbformat": 4,
 "nbformat_minor": 4
}
