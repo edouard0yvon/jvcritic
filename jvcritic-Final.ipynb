{
  "nbformat": 4,
  "nbformat_minor": 0,
  "metadata": {
    "colab": {
      "name": "Copie de Untitled0.ipynb",
      "provenance": [],
      "collapsed_sections": [],
      "include_colab_link": true
    },
    "kernelspec": {
      "name": "python3",
      "display_name": "Python 3"
    }
  },
  "cells": [
    {
      "cell_type": "markdown",
      "metadata": {
        "id": "view-in-github",
        "colab_type": "text"
      },
      "source": [
        "<a href=\"https://colab.research.google.com/github/edouard0yvon/jvcritic/blob/master/jvcritic-Final.ipynb\" target=\"_parent\"><img src=\"https://colab.research.google.com/assets/colab-badge.svg\" alt=\"Open In Colab\"/></a>"
      ]
    },
    {
      "cell_type": "code",
      "metadata": {
        "id": "WNsh1wSnZxTI",
        "colab_type": "code",
        "colab": {
          "base_uri": "https://localhost:8080/",
          "height": 471
        },
        "outputId": "de15f21f-cd90-4f75-9470-74d69ac125c3"
      },
      "source": [
        "!pip install selenium\n",
        "!apt-get update # to update ubuntu to correctly run apt install\n",
        "!apt install chromium-chromedriver\n",
        "!cp /usr/lib/chromium-browser/chromedriver /usr/bin\n",
        "import sys\n",
        "sys.path.insert(0,'/usr/lib/chromium-browser/chromedriver')\n",
        "from selenium import webdriver\n",
        "chrome_options = webdriver.ChromeOptions()\n",
        "chrome_options.add_argument('--headless')\n",
        "chrome_options.add_argument('--no-sandbox')\n",
        "chrome_options.add_argument('--disable-dev-shm-usage')\n",
        "wd = webdriver.Chrome('chromedriver',chrome_options=chrome_options)\n",
        "wd.get(\"https://www.jeuxvideo.com\")"
      ],
      "execution_count": 76,
      "outputs": [
        {
          "output_type": "stream",
          "text": [
            "Requirement already satisfied: selenium in /usr/local/lib/python3.6/dist-packages (3.141.0)\n",
            "Requirement already satisfied: urllib3 in /usr/local/lib/python3.6/dist-packages (from selenium) (1.24.3)\n",
            "Ign:1 https://developer.download.nvidia.com/compute/cuda/repos/ubuntu1804/x86_64  InRelease\n",
            "Hit:2 https://cloud.r-project.org/bin/linux/ubuntu bionic-cran35/ InRelease\n",
            "Hit:3 http://ppa.launchpad.net/graphics-drivers/ppa/ubuntu bionic InRelease\n",
            "Hit:4 http://security.ubuntu.com/ubuntu bionic-security InRelease\n",
            "Hit:5 http://archive.ubuntu.com/ubuntu bionic InRelease\n",
            "Ign:6 https://developer.download.nvidia.com/compute/machine-learning/repos/ubuntu1804/x86_64  InRelease\n",
            "Hit:7 https://developer.download.nvidia.com/compute/cuda/repos/ubuntu1804/x86_64  Release\n",
            "Hit:8 https://developer.download.nvidia.com/compute/machine-learning/repos/ubuntu1804/x86_64  Release\n",
            "Hit:9 http://ppa.launchpad.net/marutter/c2d4u3.5/ubuntu bionic InRelease\n",
            "Hit:10 http://archive.ubuntu.com/ubuntu bionic-updates InRelease\n",
            "Hit:11 http://archive.ubuntu.com/ubuntu bionic-backports InRelease\n",
            "Reading package lists... Done\n",
            "Reading package lists... Done\n",
            "Building dependency tree       \n",
            "Reading state information... Done\n",
            "chromium-chromedriver is already the newest version (84.0.4147.105-0ubuntu0.18.04.1).\n",
            "The following package was automatically installed and is no longer required:\n",
            "  libnvidia-common-440\n",
            "Use 'apt autoremove' to remove it.\n",
            "0 upgraded, 0 newly installed, 0 to remove and 50 not upgraded.\n",
            "cp: '/usr/lib/chromium-browser/chromedriver' and '/usr/bin/chromedriver' are the same file\n"
          ],
          "name": "stdout"
        },
        {
          "output_type": "stream",
          "text": [
            "/usr/local/lib/python3.6/dist-packages/ipykernel_launcher.py:12: DeprecationWarning: use options instead of chrome_options\n",
            "  if sys.path[0] == '':\n"
          ],
          "name": "stderr"
        }
      ]
    },
    {
      "cell_type": "code",
      "metadata": {
        "id": "uPesIjs9FX_9",
        "colab_type": "code",
        "colab": {}
      },
      "source": [
        ""
      ],
      "execution_count": 76,
      "outputs": []
    },
    {
      "cell_type": "code",
      "metadata": {
        "id": "qRh_vIKodDXO",
        "colab_type": "code",
        "colab": {}
      },
      "source": [
        "import re\n",
        "from bs4 import BeautifulSoup as bs\n",
        "soupe = bs(wd.page_source)"
      ],
      "execution_count": 77,
      "outputs": []
    },
    {
      "cell_type": "code",
      "metadata": {
        "id": "_T-LHWbeGTU1",
        "colab_type": "code",
        "colab": {
          "base_uri": "https://localhost:8080/",
          "height": 35
        },
        "outputId": "0a9dedda-56d3-48e7-9434-c6f30920ff29"
      },
      "source": [
        "name = input()"
      ],
      "execution_count": 78,
      "outputs": [
        {
          "output_type": "stream",
          "text": [
            "last of us 2\n"
          ],
          "name": "stdout"
        }
      ]
    },
    {
      "cell_type": "code",
      "metadata": {
        "id": "w92Dv0tVBHYF",
        "colab_type": "code",
        "colab": {
          "base_uri": "https://localhost:8080/",
          "height": 72
        },
        "outputId": "22fd1d58-6894-4067-c7e8-7994ef087d46"
      },
      "source": [
        "from bs4.element import Tag\n",
        "from selenium.webdriver.common.keys import Keys\n",
        "\n",
        "wd.get('http://www.google.com')\n",
        "resultLink = []\n",
        "arraySearch = [name+\" gamekult\", name+\" jeuxvideo.com\", name+\" metacritic\"]\n",
        "for searchTarget in arraySearch :\n",
        "  print(searchTarget)\n",
        "  search = wd.find_element_by_name('q')\n",
        "  search.send_keys(searchTarget)\n",
        "  search.send_keys(Keys.RETURN) # hit return after you enter search text\n",
        "  #time.sleep(5) # sleep for 5 seconds so you can see the results\n",
        "  #wd.quit()\n",
        "  soup = bs(wd.page_source,'lxml')\n",
        "  result_div = soup.find_all('div', attrs={'class': 'g'})\n",
        "  links = []\n",
        "  titles = []\n",
        "  descriptions = []\n",
        "  for r in result_div:\n",
        "      # Checks if each element is present, else, raise exception\n",
        "      try:\n",
        "          link = r.find('a', href=True)\n",
        "          title = None\n",
        "          title = r.find('h3')\n",
        "\n",
        "          if isinstance(title,Tag):\n",
        "              title = title.get_text()\n",
        "\n",
        "          description = None\n",
        "          description = r.find('span', attrs={'class': 'st'})\n",
        "\n",
        "          if isinstance(description, Tag):\n",
        "              description = description.get_text()\n",
        "\n",
        "          # Check to make sure everything is present before appending\n",
        "          if link != '' and title != '' and description != '':\n",
        "              links.append(link['href'])\n",
        "              titles.append(title)\n",
        "              descriptions.append(description)\n",
        "      # Next loop if one element is not present\n",
        "      except Exception as e:\n",
        "          print(e)\n",
        "          continue\n",
        "  resultLink.append(links[0])"
      ],
      "execution_count": 79,
      "outputs": [
        {
          "output_type": "stream",
          "text": [
            "last of us 2 gamekult\n",
            "last of us 2 jeuxvideo.com\n",
            "last of us 2 metacritic\n"
          ],
          "name": "stdout"
        }
      ]
    },
    {
      "cell_type": "code",
      "metadata": {
        "id": "emxainYQLxZ6",
        "colab_type": "code",
        "colab": {}
      },
      "source": [
        ""
      ],
      "execution_count": 79,
      "outputs": []
    },
    {
      "cell_type": "code",
      "metadata": {
        "id": "t2o2WQMEFb3x",
        "colab_type": "code",
        "colab": {
          "base_uri": "https://localhost:8080/",
          "height": 35
        },
        "outputId": "16d2ab09-47dd-460d-90c1-3f9482f74a51"
      },
      "source": [
        "from urllib.request import urlopen\n",
        "from bs4 import BeautifulSoup\n",
        "\n",
        "url = resultLink[0]\n",
        "html = urlopen(url)\n",
        "soup = bs(html.read(), \"lxml\")\n",
        "note = (soup.find(\"div\", {\"class\": \"numbers\"})).span.text\n",
        "print(note)"
      ],
      "execution_count": 80,
      "outputs": [
        {
          "output_type": "stream",
          "text": [
            "8\n"
          ],
          "name": "stdout"
        }
      ]
    },
    {
      "cell_type": "code",
      "metadata": {
        "id": "hhH4g9TFHrwH",
        "colab_type": "code",
        "colab": {
          "base_uri": "https://localhost:8080/",
          "height": 73
        },
        "outputId": "bdce743b-b5bd-47f5-d9c5-e068e226fa91"
      },
      "source": [
        "resume = soup.find(\"p\", {\"class\": \"pr__description--game\"}).text\n",
        "print(resume)\n",
        "prices = soup.find_all(\"li\",{\"class\": \"gk__pt__lst__itm js-track-click\"})\n",
        "markets = []\n",
        "for market in prices :\n",
        "    enseigne = ((market.find(\"div\", {\"class\" : \"gk__pt__slr\"})).text).replace(\" \", \"\")\n",
        "    note = ((market.find(\"div\", {\"class\" : \"gk__pt__prc\"})).text).replace(\" \", \"\")\n",
        "    markets.append(enseigne)\n",
        "    markets.append(note)\n",
        "\n",
        "print(markets)\n",
        "\n"
      ],
      "execution_count": 81,
      "outputs": [
        {
          "output_type": "stream",
          "text": [
            "The Last of Us Part II est un jeu vidéo disponible, sur PlayStation 4, de genre action-aventure, développé par Naughty Dog et édité par Sony Interactive Entertainment.\n",
            "['\\n\\nRakuten\\n', '48,99', '\\n\\nFnacmarketplace\\n', '49,94', '\\n\\nLeclerc\\n', '54,49', '\\n\\nFnac\\n', '54,99', '\\n\\nAmazon\\n', '56,79', '\\n\\nCultura\\n', '59,99', '\\n\\nBoulanger\\n', '59,99', '\\n\\nLdlc\\n', '64,90', '\\n\\nPlaystationstore\\n', '69,99']\n"
          ],
          "name": "stdout"
        }
      ]
    },
    {
      "cell_type": "code",
      "metadata": {
        "id": "xh4By5BIHv3m",
        "colab_type": "code",
        "colab": {
          "base_uri": "https://localhost:8080/",
          "height": 55
        },
        "outputId": "a1f4eef0-055d-44fb-81c7-874f8343eaf9"
      },
      "source": [
        "critics = \"us__reviews-h__list\"\n",
        "critics = soup.find_all(\"div\", {\"class\":\"us__reviews-h__list__review\"})\n",
        "detail_critics = []\n",
        "\n",
        "for critic in critics:\n",
        "    note = ((critic.find(\"div\", {\"class\": \"numbers\"})).span.text).replace(\" \", \"\")\n",
        "    bodyCritic = (critic.find(\"div\", {\"class\": \"us__review-h__sm__body\"})).text\n",
        "    detail_critics.append(note)\n",
        "    detail_critics.append(bodyCritic)\n",
        "\n",
        "print(detail_critics)"
      ],
      "execution_count": 82,
      "outputs": [
        {
          "output_type": "stream",
          "text": [
            "['6', \"\\nLe digne successeur du premier ? Non ...\\n                Les plus :\\n\\n* Techniquement et graphiquement magnifique.\\n* BO originale excellente.\\n* Immersion parfaite dans cet univers.\\n* A peine sorti, le jeu baisse déjà de prix. trouvable facilement à 40-45 euros neuf.\\n* Le personnage d'Ellie.\\n\\nLes Moins :\\n\\n* Maniabilité discutable et assez rigide.\\n* IA aux fraises ... votre compagnon ne sert à rien.\\n* On est à des années lumières du lien entre Joël...\\n    \", '5', \"\\nverre à moitié vide /SPOIL\\n                J'écris la première critique car il est pour moi urgent d’avertir le joueur qui hésite à l'acheter plein tarif afin qu'il soit pleinement averti à quel sauce il va être manger.\\n-8/10 pour la première moitié du jeu\\n-2/10 pour la seconde moitié du jeu à partir du moment où l'on incarne Abby\\n\\nJe m'explique : \\n-Pour être rapide sur la...\\n    \"]\n"
          ],
          "name": "stdout"
        }
      ]
    },
    {
      "cell_type": "code",
      "metadata": {
        "id": "DDfrV7OzOLjA",
        "colab_type": "code",
        "colab": {}
      },
      "source": [
        "#JEUX VIDEO COM "
      ],
      "execution_count": 83,
      "outputs": []
    },
    {
      "cell_type": "code",
      "metadata": {
        "id": "sQlW6YrTOMky",
        "colab_type": "code",
        "colab": {}
      },
      "source": [
        "# Recolter le texte de la critique\n",
        "import urllib\n",
        "from urllib.request import urlopen\n",
        "import requests as reqt\n"
      ],
      "execution_count": 84,
      "outputs": []
    },
    {
      "cell_type": "code",
      "metadata": {
        "id": "NUncubbUOT-f",
        "colab_type": "code",
        "colab": {
          "base_uri": "https://localhost:8080/",
          "height": 253
        },
        "outputId": "eda62ea1-9666-4d2b-d3e6-e59bb947488f"
      },
      "source": [
        "\n",
        "# Voir la note du Jeux video\n",
        "url = \"https://www.jeuxvideo.com/jeux/ps4/jeu-412345/\"\n",
        "pageweb = urlopen(url)\n",
        "soupes = bs(pageweb.read(), \"lxml\")\n",
        "notation = (soupes.find(\"div\", {\"class\": \"gameCharacteristicsMain__gauge\"})).text\n",
        "print(notation)\n",
        "#print(soupe.html.div)"
      ],
      "execution_count": 92,
      "outputs": [
        {
          "output_type": "stream",
          "text": [
            "\n",
            "\n",
            "\n",
            "\n",
            "\n",
            "\n",
            "\n",
            "\n",
            "\n",
            "\n",
            "19\n",
            "\n",
            "\n"
          ],
          "name": "stdout"
        }
      ]
    },
    {
      "cell_type": "code",
      "metadata": {
        "id": "W5CcEp86Oaph",
        "colab_type": "code",
        "colab": {
          "base_uri": "https://localhost:8080/",
          "height": 55
        },
        "outputId": "b5531283-f79a-4fad-df85-c2d7bcf98f20"
      },
      "source": [
        "# Voir sa description\n",
        "synopsis = soupes.find(\"p\", {\"class\": \"gameCharacteristicsMain__synopsis\"}).text\n",
        "print(synopsis)"
      ],
      "execution_count": 94,
      "outputs": [
        {
          "output_type": "stream",
          "text": [
            "Au centre de l'intrigue du premier volet, nous retrouvons à nouveau Joel et Ellie plus déterminés que jamais à éradiquer les infectés jusqu'au dernier. Se déroulant à nouveau dans un monde post apocalyptique, le duo toujours aussi soudé devra prendre les décisions qui s'imposent afin de survivre un seul jour de plus à cette pandémie.\n"
          ],
          "name": "stdout"
        }
      ]
    },
    {
      "cell_type": "code",
      "metadata": {
        "id": "egp6V70dOdgR",
        "colab_type": "code",
        "colab": {
          "base_uri": "https://localhost:8080/",
          "height": 73
        },
        "outputId": "0b215628-8bac-4fa4-e708-e09aeae33934"
      },
      "source": [
        "# Voir l'intro de la critique\n",
        "url2=\"https://www.jeuxvideo.com/test/1237466/the-last-of-us-part-ii-la-vengeance-au-coeur-d-un-recit-epoustouflant.htm\"\n",
        "page_critique = urlopen(url2)\n",
        "soupe2 = bs(page_critique.read(), \"lxml\")\n",
        "critique = soupe2.find(\"p\",{\"class\": \"intro-article\"}).text\n",
        "print(critique)"
      ],
      "execution_count": 95,
      "outputs": [
        {
          "output_type": "stream",
          "text": [
            "Sept ans, c'est le temps qu'il nous aura fallu attendre pour enfin découvrir de quoi a été fait la vie de Joël et Ellie après les atrocités qu'ils ont vécu et enduré. Sept ans à imaginer comment Naughty Dog allait pouvoir concrétiser (ou non) les fantasmes de millions de joueurs restés pantois face à ce plan final de The Last of Us, chargé d'une émotion intense, mais surtout d'une multitude de questions. La réponse est enfin là et comme nous pouvions nous en douter, elle sera synonyme de tendresse, d'émerveillement, mais aussi de beaucoup de souffrance.\n",
            "\n"
          ],
          "name": "stdout"
        }
      ]
    },
    {
      "cell_type": "code",
      "metadata": {
        "id": "3LJI9HzCOf8R",
        "colab_type": "code",
        "colab": {
          "base_uri": "https://localhost:8080/",
          "height": 146
        },
        "outputId": "d36b049c-241a-47bc-9a70-d95c7f4189c1"
      },
      "source": [
        "# l'integralité de la critique\n",
        "contenu_critique = soupe2.find_all(\"p\")\n",
        "print(contenu_critique)"
      ],
      "execution_count": 98,
      "outputs": [
        {
          "output_type": "stream",
          "text": [
            "[<p class=\"intro-article\">Sept ans, c'est le temps qu'il nous aura fallu attendre pour enfin découvrir de quoi a été fait la vie de Joël et Ellie après les atrocités qu'ils ont vécu et enduré. Sept ans à imaginer comment Naughty Dog allait pouvoir concrétiser (ou non) les fantasmes de millions de joueurs restés pantois face à ce plan final de <a href=\"https://www.jeuxvideo.com/jeux/playstation-3-ps3/00042999-the-last-of-us.htm\">The Last of Us</a>, chargé d'une émotion intense, mais surtout d'une multitude de questions. La réponse est enfin là et comme nous pouvions nous en douter, elle sera synonyme de tendresse, d'émerveillement, mais aussi de beaucoup de souffrance.\n",
            "</p>, <p class=\"titre-video\">Video-test de The Last of Us Part II : Entre poésie et sauvagerie</p>, <p>The Last of Us Part II ayant une très forte dimension narrative, nous éluderons sciemment de nombreux passages et aspects du jeu afin de ne rien vous spoiler d'important pour vous préserver l'effet de surprise.</p>, <p>The Last of Us fut un jeu aux influences ouvertement cinématographiques et nourri par son envie de raconter une histoire poignante entre un homme et une jeune fille sur fond de pandémie ayant décimé la plupart des êtres humains. Quand on y regarde de plus près, le titre de Naughty Dog n'innovait pas vraiment dans son gameplay (correct, mais loin d'être exempt de tout reproche) ni même ses références, le tout se situant à la croisée des chemins de <em>I am Legend</em> et de <em>La Route</em>. Pourtant, The Last of Us est aujourd'hui considéré comme un chef-d'oeuvre. Comment expliquer cet état de faits ? S'il tient tout d'abord au ressenti personnel de l'histoire, il passe également par le travail sur ses personnages principaux dont la relation évoluera tout au long du jeu jusqu'à faire naître des émotions perdues chez Joël à l’égard d'Ellie, passant de simple «colis» à un substitut de sa fille perdue.</p>, <p>Dès lors, le réalisateur Neil Druckmann, aidé de la scénariste Halley Gross, n'aura de cesse de jouer sur cette corde sensible en confrontant son duo aux atrocités d'un monde où la barbarie omniprésente a entraîné une notion cruciale de survie ayant depuis longtemps modifié les comportements humains. <strong>Emouvant et sanglant, The Last of Us aura marqué les joueurs par la justesse de ses situations et la subtilité de sa narration</strong>.</p>, <p>Reprenant le récit quatre ans après la fin du premier volet, Part II va tout au long de son intrigue s'attacher à nous décrire ce qui s'est passé durant cette ellipse temporelle afin de mieux nous faire comprendre le parcours d'Ellie et de Joël tout en introduisant le fantastique personnage d'Abby, nouvelle antagoniste de cette seconde partie.</p>, <p>A l'image de ce monde post-apocalyptique ayant redéfini les fondements mêmes des rapports entre individus, les différents protagonistes de cette suite ont dû s'adapter, changer, parfois au delà de leurs propres convictions, pour survivre. Alors que le premier The Last of Us s'articulait autour de l’affrontement entre la milice des Lucioles et les forces militaires de la FEDRA, Part II rabat les cartes en intégrant deux autres groupuscules, le Front de Libération de Washington (WLF) et les Scars menés par une mystérieuse prophète. <strong>Posant une toile de fond plus ample, ce second épisode ne cessera d'alimenter nos réflexions en créant des jeux de miroirs entre les vies d'Ellie et d'Abby. Si Druckmann et Gross n'arrivent pas toujours à offrir une véritable légitimité à certains personnages secondaires en les creusant suffisamment, il parvient une fois de plus à humaniser nos ennemis en ne les présentant nullement comme de vulgaires cibles à abattre</strong> mais au contraire, en leur offrant une véritable épaisseur, un passé, des convictions et une raison d'être. A l'image de David dans The Last of Us, Abby n'est pas qu'une simple guerrière mue par un désir irréfléchi de violence. Ainsi, tout au long de l'aventure, on apprendra à la connaître, à l'apprécier même, ceci étant sans doute la plus grande force du jeu mettant constamment en perspective ce qu'ont vécu ses personnages pour mieux nous amener à réfléchir au sens de nos actions.</p>, <p>Misant à nouveau sur un aspect road movie, Part II use des ressorts propres au genre pour développer une histoire d'amour tout en conservant ce qui a cimenté le premier épisode : la relation entre Ellie et Joël. A l'image de ce qu'avait déjà fait le DLC <a href=\"https://www.jeuxvideo.com/jeux/ps4/jeu-425503/\">Left Behind</a>, The Last of Us Part II nous replongera à plusieurs reprises dans le passé via différents flash-back. Tantôt terrifiants, tantôt émouvants, ces passages servent parfaitement la narration en se posant comme autant de moments de vie ayant (dé)construit une relation basée sur l'amour d'un père qui ira jusqu'à se transformer en mensonge, en égoïsme, afin de prolonger ce bonheur quitte à sacrifier une nouvelle fois l'humanité.</p>, <p><strong>Tout en évoquant le passé, Part II offre également un présent à son casting, Ellie notamment, éprise de Dina, un très beau personnage féminin campé par Shannon Woodward (<em>Raising Hope</em>, <em>Westworld</em>)</strong>, toujours juste dans son interprétation. La relation unissant les deux jeunes femmes sert ainsi de contre-poids à une réalité bien plus dure synonyme d'affrontements brutaux qui émailleront le voyage des jeunes femmes, de Jackson à Seattle.</p>, <p><strong>L'occasion pour Naughty Dog de nous offrir l'un des plus beaux jeux de la PS4, par le biais de décors semi ouverts proprement majestueux et de scènes plus claustrophobiques noyées dans une obscurité chargée de spores et des teintes rougeâtres des plus anxiogènes</strong>. Bien plus éclectique que le premier volet, The Last of Us Part II accumule les lieux dépeignant avec maestria un univers exsangue à travers villes dévastées, immeubles en ruines ou sous-sols suintants. Profitant de magnifiques jeux de lumière, le titre se complaît dans une variété environnementale étonnante nous poussant à nous arrêter constamment pour admirer le travail des artistes.</p>, <p class=\"t-serie-images\">Les easter eggs ne manquent pas dans le jeu</p>, <p><strong>Si d'un point de vue macro, cette suite ne souffre quasiment d'aucun défaut, elle étonne également au niveau des animations faciales</strong>. Les expressions, criantes de réalisme, simulent l'effort, la joie mais aussi la souffrance qui se lisent sur le visage des protagonistes, qu'ils soient centraux ou non, et ce aussi bien à travers un dialogue qu'une stealth kill. La technique sert ainsi la narration en offrant aux moments intimistes, ou aux excès de rage, une crédibilité de chaque instant renforçant parfaitement l'immersion. Sur ce point, mentionnons aussi la gestion des dégâts, les ennemis pouvant être démembrés ou perdre une moitié de leurs visages en fonction de l'impact des balles. Les animations corporelles ne sont pas en reste et si on décèle quelques imperfections (la «marche arrière» trop mécanique ou les sauts manquant d'amplitude), la grosse majorité font montre d'une véritable souplesse rendant les empoignades ou gestes plus communs (enjambement d'un muret, rechargement d'une arme) parfaitement réalistes.</p>, <p>D'un strict point de vue de la construction, Part II n'innove pas vraiment et une impression de déjà-vu se fera forcément ressentir d'autant que durant la trentaine d'heures qui vous seront nécessaires pour boucler l'aventure, le schéma restera identique. On naviguera donc constamment entre séquences faisant évoluer l'histoire et traversée d'un lieu donné, l'objectif à atteindre passant automatiquement par la découverte d'innombrables lieux propices à des échauffourées avec des infectés, des Scars ou les Wolfs. Comme il y a sept ans, la façon d'opérer sera sensiblement différente en fonction des ennemis bien que le jeu nous enjoigne à utiliser l'infiltration plutôt que l'approche directe tant on aura tôt fait d'être rapidement débordé.</p>, <p>Si le tout fonctionnait plutôt bien dans The Last of Us, malgré un vrai classicisme, l'IA ennemie n'était pas au diapason et notre compagnon, invisible aux yeux de nos ennemis, provoquait parfois des situations des plus cocasses. Bien que toujours imparfait, Part II fait grandement évoluer les choses. Ainsi, <strong>lorsque nous sommes épaulés par un partenaire, ce dernier se placera de façon plus réaliste et se montrera bien plus utile en blessant ou en achevant nos adversaires au moment opportun.</strong> Ca n'a l'air de rien, mais croyez bien que ceci ajoute une dimension plus convaincante à ces phases de gameplay. Il faut aussi comprendre que <strong>Naughty Dog a travaillé sur quasiment tous les aspects de ces séquences afin de leur insuffler une tension constante, aidées en cela par les compositions de Santaolalla servant de pouls régulier à l'action</strong>.</p>, <p>L'aspect sonore, en plus de marquer la mesure, nous renseignera aussi sur le degré de menace, la musique, discrète mais omniprésente tant que nous ne sommes pas repérés, s'emballant prestement dès lors qu'un ennemi nous voit. Une fois encore, l’immersion s'avère incroyable d'autant que les gardes ne manqueront pas de communiquer entre eux, de siffler pour marquer leur présence, ou d'hurler le nom d'un de leurs camarades abattus. Dès lors,<strong> le chassé deviendra le chasseur, ceci nous poussant à varier les plaisirs en utilisant tous les moyens mis à disposition pour écrémer les rangs ennemis</strong>. On n'aura alors de cesse de jongler entre les différentes armes disponibles, de se cacher dans les hautes herbes pour surprendre nos adversaires ou même de retourner à certains moments les infectés contre les miliciens, à l'image de ce que <a href=\"https://www.jeuxvideo.com/jeux/ps4/jeu-454841/\">Days Gone</a> proposait déjà. Jouissif.</p>, <p>Si nous y reviendrons en détails dans quelques jours via un contenu dédié, notez que Naughty Dog a mis les petits plats dans les grands pour rendre son jeu accessible aux plus grands nombres.</p>, <p>Outre de très nombreux réglages liés à la difficulté du jeu, on y trouve quantité d'options pour celles et ceux ayant des problèmes de vue : Agrandissement de l'interface, couleur de l'ATH, Mode daltonien, etc. Il est également possible d'opter pour des assistances afin que notre personnage effectue automatiquement certaines actions.</p>, <p>On reprochera malgré tout que la technique consistant à jeter un objet vers un ennemi pour le déstabiliser afin de l'éliminer d'un seul coup, soit toujours trop efficace, même dans les niveaux plus avancés où les adversaires seront mieux équipés. Anecdotique cependant puisque cette fois, les ennemis seront plus difficiles à contourner ou à appréhender grâce à des routines plus évoluées ou bien encore les chiens de garde pouvant nous flairer et nous suivre sur de longues distances. Il conviendra alors de les éliminer en premier et ce même, si à l'image de votre serviteur, cela vous fendra à chaque fois le cœur. <strong>Difficile également de ne pas encenser le travail sur le level-design. Que ce soit en usant des différents étages des bâtiments ou des zones plus ouvertes, propices au retrait pour mettre en place une stratégie, Part II offre toujours au joueur une pluralité de chemins</strong>. On regrettera tout de même que les passages sous-marins (très réussis au demeurant, notamment grâce à une très bonne gestion de la lumière et des particules) n'aient pas été davantage mis à profit.</p>, <p>Ce soucis du détail se retrouve également dans une mécanique issue du premier volet nous demandant de trouver des matériaux pour améliorer nos armes, que ce soit dans des coffres (dont il faudra dénicher la combinaison) ou bien encore des zones accessibles en résolvant quelques «énigmes» basées sur la physique. En effet, pour upgrader notre équipement, il nous faudra trouver des établis synonymes d'une multitude d'animations associées. Ici aussi, cela peut sembler secondaire, mais voir Ellie allumer une lampe avant de commencer à bricoler ou changer chaque pièce de l'arme qu'elle améliore rend ces passages communs bien plus «ludiques». Le système d'upgrades, justement, a été légèrement repensé. Désormais, vous ne pourrez améliorer qu'une seule fois chacun des éléments de vos armes en utilisant un unique type de ressources.</p>, <p>Bien entendu, on pourra encore crafter divers items (cocktails molotov, mines, surins, kits de soins...) via un système hérité du précédent volet. Enfin, le switch rapide d'armes/objets lié à la croix directionnelle n'a pas évolué et pour peu que vous trouviez des holsters, il sera possible de le faire plus rapidement. Enfin, il conviendra d'améliorer vos capacités. Ici aussi, peu de changements par rapport à ce que proposait The Last of Us puisqu’il vous faudra trouver des magazines synonymes d'arbres de compétences puis utiliser des pilules pour débloquer les skills afin de gagner en résistance, d'affiner la perception de vos ennemis, etc.</p>, <p><strong>Tout efficace qu'est le gameplay, on reprochera toutefois quelques affrontements parfois confus, à cause d'une absence de lock, ou des affrontements contre des ennemis plus imposants, assez quelconques à cause de patterns trop faciles à analyser</strong>. Pour autant, chaque combat sera l'occasion de ressentir une excitation certaine d'autant que le jeu s'avère rarement punitif grâce à un système de check point bien pensé.</p>, <p>La survie passera donc aussi bien par l'exploration, indispensable pour améliorer ses attributs et son équipement, que l'affrontement face à des ennemis plus intelligents ou des infectés dont les nouveaux venus vous procureront quelques montées d'adrénaline. Haletantes, les rixes se ponctueront parfois par des choix moraux n'ayant finalement aucun impact. En effet, de façon aléatoire, le dernier membre d'une escouade en vie nous suppliera de l'épargner, le choix de l'éliminer ou non se soldant de toute façon par sa mort. Une idée pour le moins étrange, fragilisée par l'obligation constante de tuer et devenant d'elle-même caduque dans la destinée de nos héros régulièrement poussés dans leurs derniers retranchements.</p>, <p class=\"t-serie-images\">Entre requiem et hymne de la vie...</p>, <p>Au delà de cette façon un peu superflue de nous rappeler que le concept de moralité est ici central (du moins au sein de l'histoire), The Last of Us Part II met constamment dans le mille, que ce soit à travers son scénario, ses thématiques ou son gameplay. <strong>Piochant dans divers genres cinématographiques, du film d'horreur à celui d'aventure en passant par le film de guerre, le titre de Naughty Dog fait montre d'une créativité sans faille afin de maintenir l'intérêt du joueur du début à la fin</strong>. Généreux de bout en bout (au point d'étirer peut-être un peu trop sa narration dans le dernier tiers), trouvant un équilibre, pourtant précaire, entre sauvagerie et tendresse infinie, cette suite se laisse savourer jusqu'à son plan final, simple, mélancolique et d'une véritable justesse.</p>, <p>Jouant du début à la fin avec nos émotions, cette suite oscille constamment entre rêve éveillé, où la tendresse d'un échange figé à jamais dans un lointain passé suffira à nous émouvoir, et brutalité du temps présent indissociable d'un chemin de croix mû par un implacable sentiment de vengeance. Faisant de l'imprévisible une norme, débordant de créativité à travers des instants empreints de délicatesse, cette suite surprend et nous fera réfléchir à la conséquence de nos actes tout en nous malmenant émotionnellement. Ayant peaufiné son gameplay, désormais bien plus immersif, cette Part II s'impose comme un fabuleux titre d'action/infiltration mais aussi et surtout comme un récit, se perdant parfois dans quelques étirements narratifs et autres scènes superflues mais ne déviant jamais de sa ligne directrice vouée à offrir à ses personnages une conclusion, qu'elle soit heureuse ou non. Comme toutes les créations portant la marque de leurs auteurs, The Last of Us Part II suscitera des débats, des réactions, ce qui, à l'image de ses protagonistes, reste terriblement humain. Qu'on apprécie ou non, il reste ici une œuvre majeure qui nous hantera plusieurs jours après l'avoir terminé et qu'on évoquera désormais comme le nouvel exemple à suivre dans son domaine ou plus simplement comme une histoire époustouflante, déchirante et magnifique à la fois. </p>, <p class=\"mentions\">\n",
            "<span class=\"text\">jeuxvideo.com est édité par <span class=\"JvCare 45CBCBC02D1F1FCCCCCC19CC4341434B464A1944C11F a-footer\" target=\"_blank\">Webedia</span>.</span>\n",
            "<span class=\"text\">Copyright © 1997-2020 Webedia.</span>\n",
            "<span class=\"text\">Tous droits réservés.</span>\n",
            "</p>]\n"
          ],
          "name": "stdout"
        }
      ]
    }
  ]
}